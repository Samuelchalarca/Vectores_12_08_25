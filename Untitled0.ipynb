{
  "nbformat": 4,
  "nbformat_minor": 0,
  "metadata": {
    "colab": {
      "provenance": [],
      "toc_visible": true,
      "authorship_tag": "ABX9TyN77NXyBVU3zxAh03fFie3I",
      "include_colab_link": true
    },
    "kernelspec": {
      "name": "python3",
      "display_name": "Python 3"
    },
    "language_info": {
      "name": "python"
    }
  },
  "cells": [
    {
      "cell_type": "markdown",
      "metadata": {
        "id": "view-in-github",
        "colab_type": "text"
      },
      "source": [
        "<a href=\"https://colab.research.google.com/github/Samuelchalarca/Vectores_12_08_25/blob/main/Untitled0.ipynb\" target=\"_parent\"><img src=\"https://colab.research.google.com/assets/colab-badge.svg\" alt=\"Open In Colab\"/></a>"
      ]
    },
    {
      "cell_type": "code",
      "execution_count": 1,
      "metadata": {
        "colab": {
          "base_uri": "https://localhost:8080/"
        },
        "id": "LExmcO4k1H7B",
        "outputId": "d99e047e-4dbf-4aa8-e1e3-601557da6d9e"
      },
      "outputs": [
        {
          "output_type": "stream",
          "name": "stdout",
          "text": [
            "[1 2 3 4 5]\n",
            "3\n",
            "[0. 0. 0. 0. 0.]\n",
            "[1. 1. 1. 1. 1.]\n",
            "rango [1 2 3 4 5 6 7 8 9]\n",
            "linspace [ 1.    3.25  5.5   7.75 10.  ]\n",
            "random [0.71865745 0.6728897  0.40090175 0.28879885 0.77244462 0.42283513\n",
            " 0.62692106 0.1869878  0.84069292 0.15505773]\n",
            "randint [7 6 8 6 2 4 7 5 6 7]\n"
          ]
        }
      ],
      "source": [
        "import numpy as np # np es un alias para recortar el nombre de numpy\n",
        "vector = np.array([1, 2, 3, 4, 5]) # Creamos un vector de numpy\n",
        "print(vector) # Imprimimos el vector\n",
        "# quiero imprimir el tercer elemento del vector\n",
        "print(vector[2]) # Imprimimos el tercer elemento del vector (índice 2)\n",
        "\"\"\" los vectores no son como las listas, no tienen un método append() para agregar elementos\n",
        "y no tienen un método pop() para eliminar elementos, pero sí tienen un método reshape() para cambiar su forma , adicionalmente despues de creado no se puede cambiar el tamaño del vector \"\"\"\n",
        "vector1 =np.zeros(5) # Creamos un vector de ceros de tamaño 5\n",
        "print(vector1) # Imprimimos el vector de ceros\n",
        "vector2 = np.ones(5) # Creamos un vector de unos de tamaño 5\n",
        "print(vector2) # Imprimimos el vector de unos\n",
        "vector3 = np.arange(1,10) # Creamos un vector derango de 1 al 10\n",
        "print(\"rango\",vector3) # Imprimimos el vector de números rango\n",
        "vector4 = np.linspace(1, 10, 5) # Creamos un vector de 5 números entre 1 y 10\n",
        "print(\"linspace\",vector4) # Imprimimos el vector de números linspace\n",
        "vector5 = np.random.rand(10) # Creamos un vector de 5 números aleatorios entre 0 y 10\n",
        "print(\"random\",vector5) # Imprimimos el vector de números aleatorios\n",
        "vector6= np.random.randint(1,10,10) # Creamos un vector de 5 números aleatorios entre 0 y 10\n",
        "print(\"randint\",vector6) # Imprimimos el vector de números aleatorios\n",
        "# Creamos un vector de 5 números aleatorios entre 0 y 10"
      ]
    },
    {
      "cell_type": "markdown",
      "source": [
        "# Nueva sección"
      ],
      "metadata": {
        "id": "U1UMuRQW2Im-"
      }
    }
  ]
}